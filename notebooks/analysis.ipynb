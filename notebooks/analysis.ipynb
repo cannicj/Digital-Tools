{
 "cells": [
  {
   "cell_type": "markdown",
   "metadata": {},
   "source": [
    "# notebook that downloads and processes data"
   ]
  },
  {
   "cell_type": "markdown",
   "metadata": {},
   "source": [
    "## What factors could be a good predictors for S&P 500 returns?\n",
    "Notes:\n",
    "The goal is to download different data that could potentially predict S&P 500 returns, then choose a model (machine learning methods like SVM, decisiontree, randomforest, maybe even neural network) and see whether it is a good predictor or not. Output should be a summary of the input, some visualization and some summary statistics.\n",
    "\n",
    "Data that could be used as input:\n",
    "Inflation data\n",
    "Interest rates\n",
    "GDP growth\n",
    "Unemployment data\n",
    "Exchange rates\n",
    "Investor sentiment (how is this measured?)\n",
    "Earnings estimates\n",
    "Dividend yield\n",
    "gold price\n",
    "\n",
    "Things to consider: Data frequency\n"
   ]
  }
 ],
 "metadata": {
  "kernelspec": {
   "display_name": "Python 3",
   "language": "python",
   "name": "python3"
  },
  "language_info": {
   "codemirror_mode": {
    "name": "ipython",
    "version": 3
   },
   "file_extension": ".py",
   "mimetype": "text/x-python",
   "name": "python",
   "nbconvert_exporter": "python",
   "pygments_lexer": "ipython3",
   "version": "3.7.6"
  }
 },
 "nbformat": 4,
 "nbformat_minor": 4
}
